{
 "cells": [
  {
   "cell_type": "markdown",
   "metadata": {},
   "source": [
    "1. In the below elements which of them are values or an expression? eg:- values can be\n",
    "integer or string and expressions will be mathematical operators.\n",
    "*\n",
    "&#39;hello&#39;\n",
    "-87.8\n",
    "-\n",
    "/\n",
    "+\n",
    "6\n",
    "ans]\n",
    " \n",
    " *       - operator(multiplication)\n",
    " 'hello' - value(string)\n",
    " -87.8   - value(integer)\n",
    " /       - operator(returns quotient in decimals)\n",
    " +       - operator(addition)\n",
    " 6       - value(integer)"
   ]
  },
  {
   "cell_type": "markdown",
   "metadata": {},
   "source": [
    "Q2 What is the difference between string and variable?\n",
    "spam    -  it is a variable. it is used to store a data.\n",
    "'spam'  - it is a string. it is a data stored in variable."
   ]
  },
  {
   "cell_type": "markdown",
   "metadata": {},
   "source": [
    "Q3] Describe three different data types.\n",
    "the three data forms are\n",
    "\n",
    "1) int - it is used to store integers/numbers\n",
    "2) str - it is used to store string/any sentence or words.\n",
    "3) float - it is used to store numbers with decimals."
   ]
  },
  {
   "cell_type": "markdown",
   "metadata": {},
   "source": [
    "Q4]What is an expression made up of? What do all expressions do?\n",
    " 2 + 3 - It is an expression.\n",
    " the functions of all expression is to give output.\n"
   ]
  },
  {
   "cell_type": "markdown",
   "metadata": {},
   "source": [
    "Q5]This assignment statements, like spam = 10. What is the difference between an\n",
    "expression and a statement?\n",
    "spam = 10\n",
    "in this spam is declared as a variable which stores data as 10\n",
    "if we type - (spam + 5),. \n",
    "then it will be an expression giving output as 15 ."
   ]
  },
  {
   "cell_type": "code",
   "execution_count": 1,
   "metadata": {},
   "outputs": [
    {
     "data": {
      "text/plain": [
       "23"
      ]
     },
     "execution_count": 1,
     "metadata": {},
     "output_type": "execute_result"
    }
   ],
   "source": [
    "#Q6 After running the following code, what does the variable bacon contain?\n",
    "bacon = 22\n",
    "bacon + 1"
   ]
  },
  {
   "cell_type": "code",
   "execution_count": 4,
   "metadata": {},
   "outputs": [
    {
     "data": {
      "text/plain": [
       "'spamspamspam'"
      ]
     },
     "execution_count": 4,
     "metadata": {},
     "output_type": "execute_result"
    }
   ],
   "source": [
    "#Q7 What should the values of the following two terms be?\n",
    "#39;spam&#39; + &#39;spamspam&#39;\n",
    "#39;spam&#39; * 3\n",
    "'spam' + 'spamspam'"
   ]
  },
  {
   "cell_type": "code",
   "execution_count": 5,
   "metadata": {},
   "outputs": [
    {
     "data": {
      "text/plain": [
       "'spamspamspam'"
      ]
     },
     "execution_count": 5,
     "metadata": {},
     "output_type": "execute_result"
    }
   ],
   "source": [
    "'spam' * 3"
   ]
  },
  {
   "cell_type": "markdown",
   "metadata": {},
   "source": [
    "Q8] Why is eggs a valid variable name while 100 is invalid?\n",
    "A variable is something which stores a data/value in forms of numbers.Ex. p = 10\n",
    "so if we are considering 100 as a variable then we are assigning 100 a value like 100 = 10. which is not true and illogical. so eggs is a true variable."
   ]
  },
  {
   "cell_type": "markdown",
   "metadata": {},
   "source": [
    "Q9] What three functions can be used to get the integer, floating-point number, or string version of a value?\n",
    "int - to convert into an integer we can use this function."
   ]
  },
  {
   "cell_type": "markdown",
   "metadata": {},
   "source": [
    "#Why does this expression cause an error? How can you fix it?\n",
    "#39;I have eaten &#39; + 99 + &#39; burritos.&#39;\n",
    "\n",
    "so in the above statement 99 is not a part of the string. it is an integer type value.\n",
    "we have to declare it as a string to form a complete sentence\n"
   ]
  },
  {
   "cell_type": "code",
   "execution_count": 9,
   "metadata": {},
   "outputs": [
    {
     "data": {
      "text/plain": [
       "'i have eaten 99 burriots'"
      ]
     },
     "execution_count": 9,
     "metadata": {},
     "output_type": "execute_result"
    }
   ],
   "source": [
    "'i have eaten' + ' 99 ' + 'burriots'"
   ]
  },
  {
   "cell_type": "code",
   "execution_count": null,
   "metadata": {},
   "outputs": [],
   "source": []
  }
 ],
 "metadata": {
  "kernelspec": {
   "display_name": "Python 3",
   "language": "python",
   "name": "python3"
  },
  "language_info": {
   "codemirror_mode": {
    "name": "ipython",
    "version": 3
   },
   "file_extension": ".py",
   "mimetype": "text/x-python",
   "name": "python",
   "nbconvert_exporter": "python",
   "pygments_lexer": "ipython3",
   "version": "3.8.5"
  }
 },
 "nbformat": 4,
 "nbformat_minor": 4
}
