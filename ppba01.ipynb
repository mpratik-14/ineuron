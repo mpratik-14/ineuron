{
 "cells": [
  {
   "cell_type": "markdown",
   "metadata": {},
   "source": [
    "1. Write a Python program to print &quot;Hello Python&quot;?\n",
    "2. Write a Python program to do arithmetical operations addition and division.?\n",
    "3. Write a Python program to find the area of a triangle?\n",
    "4. Write a Python program to swap two variables?\n",
    "5. Write a Python program to generate a random number?"
   ]
  },
  {
   "cell_type": "code",
   "execution_count": 4,
   "metadata": {},
   "outputs": [
    {
     "name": "stdout",
     "output_type": "stream",
     "text": [
      "hello python\n"
     ]
    }
   ],
   "source": [
    "#ans 1\n",
    "print('hello python')"
   ]
  },
  {
   "cell_type": "code",
   "execution_count": 7,
   "metadata": {},
   "outputs": [],
   "source": [
    "#ans2\n",
    "def am():\n",
    "    a = int(input('enter a value: '))\n",
    "    b = int(input('enter b value: '))\n",
    "    c = a+b\n",
    "    d = a/b\n",
    "    return c,d"
   ]
  },
  {
   "cell_type": "code",
   "execution_count": 8,
   "metadata": {},
   "outputs": [
    {
     "name": "stdout",
     "output_type": "stream",
     "text": [
      "enter a value: 4\n",
      "enter b value: 5\n"
     ]
    },
    {
     "data": {
      "text/plain": [
       "(9, 0.8)"
      ]
     },
     "execution_count": 8,
     "metadata": {},
     "output_type": "execute_result"
    }
   ],
   "source": [
    "am()"
   ]
  },
  {
   "cell_type": "code",
   "execution_count": 17,
   "metadata": {},
   "outputs": [],
   "source": [
    "#ans 3\n",
    "def at():\n",
    "    b = float(input('enter base of triangle: '))\n",
    "    h = float(input('enter height of triangle: '))\n",
    "    area = 1/2 * b * h\n",
    "    return \"the area of triangle is \" + str(area)"
   ]
  },
  {
   "cell_type": "code",
   "execution_count": 18,
   "metadata": {},
   "outputs": [
    {
     "name": "stdout",
     "output_type": "stream",
     "text": [
      "enter base of triangle: 4\n",
      "enter height of triangle: 6\n"
     ]
    },
    {
     "data": {
      "text/plain": [
       "'the area of triangle is 12.0'"
      ]
     },
     "execution_count": 18,
     "metadata": {},
     "output_type": "execute_result"
    }
   ],
   "source": [
    "at()"
   ]
  },
  {
   "cell_type": "code",
   "execution_count": 25,
   "metadata": {},
   "outputs": [],
   "source": [
    "#ans4\n",
    "def swap():\n",
    "    a = float(input('enter any no.'))\n",
    "    b = float(input('enter any no. '))\n",
    "    a,b = b,a\n",
    "    return ('the value after swapping is : '+ str(a),str(b))"
   ]
  },
  {
   "cell_type": "code",
   "execution_count": 26,
   "metadata": {},
   "outputs": [
    {
     "name": "stdout",
     "output_type": "stream",
     "text": [
      "enter any no.45\n",
      "enter any no. 69\n"
     ]
    },
    {
     "data": {
      "text/plain": [
       "('the value after swapping is : 69.0', '45.0')"
      ]
     },
     "execution_count": 26,
     "metadata": {},
     "output_type": "execute_result"
    }
   ],
   "source": [
    "swap()"
   ]
  },
  {
   "cell_type": "code",
   "execution_count": 40,
   "metadata": {},
   "outputs": [],
   "source": [
    "#ans 5\n",
    "import random\n",
    "\n",
    "def main():\n",
    "    a = int(input('enter initial no. '))\n",
    "    b = int(input('enter final no. '))\n",
    "    number = random.randint(a,b)\n",
    "\n",
    "    print('the number is', number)"
   ]
  },
  {
   "cell_type": "code",
   "execution_count": 41,
   "metadata": {},
   "outputs": [
    {
     "name": "stdout",
     "output_type": "stream",
     "text": [
      "enter initial no. 1\n",
      "enter final no. 100\n",
      "the number is 48\n"
     ]
    }
   ],
   "source": [
    "main()"
   ]
  },
  {
   "cell_type": "code",
   "execution_count": null,
   "metadata": {},
   "outputs": [],
   "source": []
  }
 ],
 "metadata": {
  "kernelspec": {
   "display_name": "Python 3",
   "language": "python",
   "name": "python3"
  },
  "language_info": {
   "codemirror_mode": {
    "name": "ipython",
    "version": 3
   },
   "file_extension": ".py",
   "mimetype": "text/x-python",
   "name": "python",
   "nbconvert_exporter": "python",
   "pygments_lexer": "ipython3",
   "version": "3.8.5"
  }
 },
 "nbformat": 4,
 "nbformat_minor": 4
}
