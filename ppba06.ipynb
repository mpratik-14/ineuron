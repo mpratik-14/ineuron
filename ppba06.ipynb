{
 "cells": [
  {
   "cell_type": "code",
   "execution_count": 13,
   "id": "6f3fbed5",
   "metadata": {},
   "outputs": [
    {
     "name": "stdout",
     "output_type": "stream",
     "text": [
      "Enter how many terms: 6\n",
      "Fibonnaci Sequence is : \n",
      "0 1 1 2 3 5 "
     ]
    }
   ],
   "source": [
    "#Q1. Write a Python Program to Display Fibonacci Sequence Using Recursion?\n",
    "def Fib_Recursion(n):\n",
    "    if n <= 1:\n",
    "        return n\n",
    "    else :\n",
    "        return(Fib_Recursion(n-1) + Fib_Recursion(n-2))\n",
    "    \n",
    "nterms = int(input(\"Enter how many terms: \"))\n",
    "\n",
    "if nterms <= 0:\n",
    "    print (\"Your input is invalid. Please enter a positive integer\")\n",
    "else:\n",
    "    print (\"Fibonnaci Sequence is : \")\n",
    "    for i in range(nterms):\n",
    "        print(Fib_Recursion(i), end = \" \")"
   ]
  },
  {
   "cell_type": "code",
   "execution_count": 16,
   "id": "140a202f",
   "metadata": {},
   "outputs": [
    {
     "data": {
      "text/plain": [
       "120"
      ]
     },
     "execution_count": 16,
     "metadata": {},
     "output_type": "execute_result"
    }
   ],
   "source": [
    "#Q2. Write a Python Program to Find Factorial of Number Using Recursion?\n",
    "def Fac(n):\n",
    "    \n",
    "    if n== 1:\n",
    "        return n\n",
    "    else:\n",
    "        return n* Fac(n-1)\n",
    "    \n",
    "Fac(5)"
   ]
  },
  {
   "cell_type": "code",
   "execution_count": 18,
   "id": "819fb5ae",
   "metadata": {},
   "outputs": [
    {
     "name": "stdout",
     "output_type": "stream",
     "text": [
      "Enter your weight in kilogram44\n",
      "Enter your height in metre1.64\n"
     ]
    },
    {
     "data": {
      "text/plain": [
       "('Your BMI is ', 16.359309934562763)"
      ]
     },
     "execution_count": 18,
     "metadata": {},
     "output_type": "execute_result"
    }
   ],
   "source": [
    "#Q3. Write a Python Program to calculate your Body Mass Index?\n",
    "def BMI():\n",
    "    kg = float(input(\"Enter your weight in kilogram\"))\n",
    "    height = float(input(\"Enter your height in metre\"))\n",
    "    bmi = kg / (height * height)\n",
    "    return \"Your BMI is \", bmi\n",
    "\n",
    "BMI()"
   ]
  },
  {
   "cell_type": "code",
   "execution_count": 2,
   "id": "14798fc6",
   "metadata": {},
   "outputs": [
    {
     "name": "stdout",
     "output_type": "stream",
     "text": [
      "Enter any no: 24\n",
      "natural logarithm of  24.0 is "
     ]
    },
    {
     "data": {
      "text/plain": [
       "3.1780538303479458"
      ]
     },
     "execution_count": 2,
     "metadata": {},
     "output_type": "execute_result"
    }
   ],
   "source": [
    "#Q4. Write a Python Program to calculate the natural logarithm of any number?\n",
    "import math\n",
    "def NL():\n",
    "    n = float(input(\"Enter any no: \"))\n",
    "    print (\"natural logarithm of \",n , \"is\", end = \" \")\n",
    "    return math.log(n)\n",
    "\n",
    "NL()"
   ]
  },
  {
   "cell_type": "code",
   "execution_count": 7,
   "id": "71e1c849",
   "metadata": {},
   "outputs": [
    {
     "name": "stdout",
     "output_type": "stream",
     "text": [
      "enter first number: 1\n",
      "enter second number: 10\n"
     ]
    },
    {
     "data": {
      "text/plain": [
       "3025"
      ]
     },
     "execution_count": 7,
     "metadata": {},
     "output_type": "execute_result"
    }
   ],
   "source": [
    "#Q5. Write a Python Program for cube sum of first n natural numbers? \n",
    "\n",
    "def cube():\n",
    "    first = int(input(\"enter first number: \"))\n",
    "    end = int(input(\"enter second number: \"))\n",
    "    sum =0\n",
    "    for i in range(first, end + 1):\n",
    "        sum += i*i*i\n",
    "    return sum\n",
    "\n",
    "cube()"
   ]
  },
  {
   "cell_type": "code",
   "execution_count": null,
   "id": "ceedebf0",
   "metadata": {},
   "outputs": [],
   "source": []
  }
 ],
 "metadata": {
  "kernelspec": {
   "display_name": "Python 3",
   "language": "python",
   "name": "python3"
  }
 },
 "nbformat": 4,
 "nbformat_minor": 5
}
