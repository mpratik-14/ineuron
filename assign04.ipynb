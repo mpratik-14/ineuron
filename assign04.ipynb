{
 "cells": [
  {
   "cell_type": "markdown",
   "id": "cbf80769",
   "metadata": {},
   "source": [
    "1. What exactly is []?\n",
    "Ans: The above symbol is an used for creating a list."
   ]
  },
  {
   "cell_type": "code",
   "execution_count": 6,
   "id": "37ae0461",
   "metadata": {},
   "outputs": [
    {
     "data": {
      "text/plain": [
       "[123, 4, 4, 44, 2]"
      ]
     },
     "execution_count": 6,
     "metadata": {},
     "output_type": "execute_result"
    }
   ],
   "source": [
    "#2. In a list of values stored in a variable called spam, how would you assign the value 'hello' as the\n",
    "# third value? (Assume [2, 4, 6, 8, 10] are in spam.)\n",
    "spam = [123,4,4,44,2]\n",
    "spam"
   ]
  },
  {
   "cell_type": "code",
   "execution_count": 4,
   "id": "a00c51ce",
   "metadata": {},
   "outputs": [],
   "source": [
    "spam[2] = 'hello'"
   ]
  },
  {
   "cell_type": "code",
   "execution_count": 5,
   "id": "6228bc04",
   "metadata": {},
   "outputs": [
    {
     "data": {
      "text/plain": [
       "[123, 4, 'hello', 44, 2]"
      ]
     },
     "execution_count": 5,
     "metadata": {},
     "output_type": "execute_result"
    }
   ],
   "source": [
    "spam"
   ]
  },
  {
   "cell_type": "code",
   "execution_count": 7,
   "id": "e97ff928",
   "metadata": {},
   "outputs": [
    {
     "data": {
      "text/plain": [
       "44"
      ]
     },
     "execution_count": 7,
     "metadata": {},
     "output_type": "execute_result"
    }
   ],
   "source": [
    "#Q3 what is the value of spam[int(int('3'*2)/11)]?\n",
    "spam[int(int('3'*2)/11)]"
   ]
  },
  {
   "cell_type": "code",
   "execution_count": 8,
   "id": "fb7c73af",
   "metadata": {},
   "outputs": [
    {
     "data": {
      "text/plain": [
       "2"
      ]
     },
     "execution_count": 8,
     "metadata": {},
     "output_type": "execute_result"
    }
   ],
   "source": [
    "#Q4 What is the value of spam[-1]?\n",
    "#ANS\n",
    "spam[-1]"
   ]
  },
  {
   "cell_type": "code",
   "execution_count": 9,
   "id": "cc3bfb11",
   "metadata": {},
   "outputs": [
    {
     "data": {
      "text/plain": [
       "[123, 4]"
      ]
     },
     "execution_count": 9,
     "metadata": {},
     "output_type": "execute_result"
    }
   ],
   "source": [
    "#Q5 What is the value of spam[:2]?\n",
    "#Ans\n",
    "spam[:2]"
   ]
  },
  {
   "cell_type": "code",
   "execution_count": 3,
   "id": "1cab9abf",
   "metadata": {},
   "outputs": [],
   "source": [
    "#Lets pretend the bacon has the list [3.14,'cat',11,'cat' True] for the next three questions.\n",
    "bacon = [3.14,'cat',11,'cat', True]"
   ]
  },
  {
   "cell_type": "code",
   "execution_count": 4,
   "id": "0f29af34",
   "metadata": {},
   "outputs": [
    {
     "data": {
      "text/plain": [
       "1"
      ]
     },
     "execution_count": 4,
     "metadata": {},
     "output_type": "execute_result"
    }
   ],
   "source": [
    "#Q6 What is the value of bacon.index('cat')?\n",
    "#Ans\n",
    "bacon.index('cat')"
   ]
  },
  {
   "cell_type": "code",
   "execution_count": 5,
   "id": "733558e7",
   "metadata": {},
   "outputs": [
    {
     "data": {
      "text/plain": [
       "[3.14, 'cat', 11, 'cat', True, 99]"
      ]
     },
     "execution_count": 5,
     "metadata": {},
     "output_type": "execute_result"
    }
   ],
   "source": [
    "#Q7 How does bacon.append(99) change the look of the list value in bacon?\n",
    "bacon.append(99)\n",
    "bacon #it will add data at the end of the list"
   ]
  },
  {
   "cell_type": "code",
   "execution_count": 6,
   "id": "4399a3fd",
   "metadata": {},
   "outputs": [
    {
     "data": {
      "text/plain": [
       "[3.14, 11, 'cat', True, 99]"
      ]
     },
     "execution_count": 6,
     "metadata": {},
     "output_type": "execute_result"
    }
   ],
   "source": [
    "#Q8. How does bacon.remove('cat') change the look of the list in bacon?\n",
    "bacon.remove('cat')\n",
    "bacon #it will remove the data name cat in ascending order"
   ]
  },
  {
   "cell_type": "markdown",
   "id": "5d2744d1",
   "metadata": {},
   "source": [
    "#Q9 9. What are the list concatenation and list replication operators?\n",
    "Ans : The operator for list concatenation is + and  the operator for replication is *."
   ]
  },
  {
   "cell_type": "markdown",
   "id": "8ee9efef",
   "metadata": {},
   "source": [
    "#Q10 What is difference between the list methods append() and insert()?\n",
    "#Ans\n",
    "'''The list mehtod append() is use to add data at the end of the list whereas\n",
    "the list method insert() is use to add data in any place of our choice giving specific location or position'''"
   ]
  },
  {
   "cell_type": "markdown",
   "id": "aec04847",
   "metadata": {},
   "source": [
    "#Q11 What are the two methods for removing items from a list?\n",
    "#Ans \n",
    "The two methods for removing items from the list are remove() and pop()"
   ]
  },
  {
   "cell_type": "markdown",
   "id": "05e82b96",
   "metadata": {},
   "source": [
    "#Q12  Describe how list values and string values are identical?\n",
    "#Ans\n",
    "Both list and string values are used to store but in list we can store any kind of data(int,float,boleean, string) whereas\n",
    "in string values we can store onkly string value of data"
   ]
  },
  {
   "cell_type": "markdown",
   "id": "9ba08b28",
   "metadata": {},
   "source": [
    "#Q13 What's the difference between tuples and lists?\n",
    "#Ans\n",
    "List are mutable whereas tuples are immutable"
   ]
  },
  {
   "cell_type": "code",
   "execution_count": 7,
   "id": "f617b473",
   "metadata": {},
   "outputs": [
    {
     "data": {
      "text/plain": [
       "42"
      ]
     },
     "execution_count": 7,
     "metadata": {},
     "output_type": "execute_result"
    }
   ],
   "source": [
    "#Q14. How do you type a tuple value that only contains the integer 42?\n",
    "#Ans\n",
    "tuple = (42)\n",
    "tuple"
   ]
  },
  {
   "cell_type": "code",
   "execution_count": 2,
   "id": "162324df",
   "metadata": {},
   "outputs": [
    {
     "data": {
      "text/plain": [
       "(4, 5, 6)"
      ]
     },
     "execution_count": 2,
     "metadata": {},
     "output_type": "execute_result"
    }
   ],
   "source": [
    "#Q15. How do you get a list value's tuple form? How do you get a tuple value's list form?\n",
    "#to get list value in tuple form\n",
    "l = [4,5,6]\n",
    "tuple(l)"
   ]
  },
  {
   "cell_type": "code",
   "execution_count": 4,
   "id": "6e6f940b",
   "metadata": {},
   "outputs": [
    {
     "data": {
      "text/plain": [
       "[243, 4, 434, 23]"
      ]
     },
     "execution_count": 4,
     "metadata": {},
     "output_type": "execute_result"
    }
   ],
   "source": [
    "#to convert tuple values in list form\n",
    "t = (243,4,434,23)\n",
    "list(t)"
   ]
  },
  {
   "cell_type": "code",
   "execution_count": null,
   "id": "a0122cb6",
   "metadata": {},
   "outputs": [],
   "source": [
    "#Q16. Variables that \"contain\" list values are not necessarily lists themselves. Instead, what do they\n",
    "#contain?\n",
    "#ANS\n",
    "'''Variables that contain list values are basically data containing values such s int, float, string, etc'''"
   ]
  },
  {
   "cell_type": "code",
   "execution_count": null,
   "id": "3964bc02",
   "metadata": {},
   "outputs": [],
   "source": [
    "#Q17 How do you distinguish between copy.copy() and copy.deepcopy()?\n",
    "#Ans\n",
    "'''IN copy.copy() which is stated as shallow copy if we have a nested list and we \n",
    "            try to update the elements in the nested list then it will get updated whereas the \n",
    "            value in the list wont be updated'''\n",
    "'''In copy.deepcopy() which is stated as deep copy it will not update value in any of the data stored.'''\n"
   ]
  }
 ],
 "metadata": {
  "kernelspec": {
   "display_name": "Python 3",
   "language": "python",
   "name": "python3"
  },
  "language_info": {
   "codemirror_mode": {
    "name": "ipython",
    "version": 3
   },
   "file_extension": ".py",
   "mimetype": "text/x-python",
   "name": "python",
   "nbconvert_exporter": "python",
   "pygments_lexer": "ipython3",
   "version": "3.8.8"
  }
 },
 "nbformat": 4,
 "nbformat_minor": 5
}
