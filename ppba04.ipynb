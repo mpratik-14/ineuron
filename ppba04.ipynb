{
 "cells": [
  {
   "cell_type": "code",
   "execution_count": 5,
   "id": "d0162905",
   "metadata": {},
   "outputs": [
    {
     "name": "stdout",
     "output_type": "stream",
     "text": [
      "Enter a number: 5\n",
      "The factorial of 5 is 120\n"
     ]
    }
   ],
   "source": [
    "#Q1. Write a Python Program to Find the Factorial of a Number?\n",
    "def fac():\n",
    "    num = int(input(\"Enter a number: \"))    \n",
    "    factorial = 1    \n",
    "    if num < 0:    \n",
    "        print(\" Factorial does not exist for negative numbers\")    \n",
    "    elif num == 0:    \n",
    "        print(\"The factorial of 0 is 1\")    \n",
    "    else:    \n",
    "        for i in range(1,num + 1):    \n",
    "            factorial = factorial*i    \n",
    "        print(\"The factorial of\",num,\"is\",factorial) \n",
    "            \n",
    "fac()"
   ]
  },
  {
   "cell_type": "code",
   "execution_count": 6,
   "id": "e1185be7",
   "metadata": {},
   "outputs": [
    {
     "name": "stdout",
     "output_type": "stream",
     "text": [
      "enter any no : 10\n",
      "10 * 1 = 10\n",
      "10 * 2 = 20\n",
      "10 * 3 = 30\n",
      "10 * 4 = 40\n",
      "10 * 5 = 50\n",
      "10 * 6 = 60\n",
      "10 * 7 = 70\n",
      "10 * 8 = 80\n",
      "10 * 9 = 90\n",
      "10 * 10 = 100\n"
     ]
    }
   ],
   "source": [
    "#Q2. Write a Python Program to Display the multiplication Table?\n",
    "def multiplication_table():\n",
    "    n = int(input(\"enter any no : \"))\n",
    "    for i in range(1,11):\n",
    "        print(n, \"*\" ,i, \"=\", n*i)\n",
    "        \n",
    "        \n",
    "multiplication_table()"
   ]
  },
  {
   "cell_type": "code",
   "execution_count": 17,
   "id": "2efb7a4d",
   "metadata": {},
   "outputs": [
    {
     "name": "stdout",
     "output_type": "stream",
     "text": [
      "enter sequence upto : 10\n",
      "0 1 1 2 3 5 8 13 21 34 "
     ]
    }
   ],
   "source": [
    "#Q3. Write a Python Program to Print the Fibonacci sequence?\n",
    "def Fibonacci():\n",
    "    n = int(input(\"enter sequence upto : \"))\n",
    "    x = 0\n",
    "    y = 1\n",
    "    if n <= 0:\n",
    "        print(\"The fibonacci series is :\" ,x)\n",
    "    else:\n",
    "        print(x,y,end  = ' ')\n",
    "        for i in range(2,n):\n",
    "            next = x+y\n",
    "            print(next, end = ' ')\n",
    "            x = y\n",
    "            y = next\n",
    "        \n",
    "\n",
    "Fibonacci()"
   ]
  },
  {
   "cell_type": "code",
   "execution_count": 23,
   "id": "22ef0f0a",
   "metadata": {},
   "outputs": [
    {
     "name": "stdout",
     "output_type": "stream",
     "text": [
      "enter a no: 153\n",
      "153 It is an armstrong no \n"
     ]
    }
   ],
   "source": [
    "#Q4. Write a Python Program to Check Armstrong Number?\n",
    "def armstrong_no():\n",
    "    n = int(input(\"enter a no: \"))\n",
    "    sum = 0\n",
    "    temp = num\n",
    "    while temp > 0:\n",
    "        digit = temp % 10\n",
    "        sum += digit **3\n",
    "        temp //= 10\n",
    "    \n",
    "    if num == sum:\n",
    "        print(n, \"It is an armstrong no \")\n",
    "    else:\n",
    "        print(n, \"it is not an armstrong no\")\n",
    "        \n",
    "        \n",
    "armstrong_no()"
   ]
  },
  {
   "cell_type": "code",
   "execution_count": null,
   "id": "6a4a4547",
   "metadata": {},
   "outputs": [],
   "source": []
  },
  {
   "cell_type": "code",
   "execution_count": 24,
   "id": "a94532fc",
   "metadata": {},
   "outputs": [
    {
     "name": "stdout",
     "output_type": "stream",
     "text": [
      "enter initial no: 10\n",
      "enter final nO: 1000\n",
      "153\n",
      "370\n",
      "371\n",
      "407\n"
     ]
    }
   ],
   "source": [
    "#Q5. Write a Python Program to Find Armstrong Number in an Interval?\n",
    "\n",
    "\n",
    "lower = int(input(\"enter initial no: \"))\n",
    "upper = int(input(\"enter final nO: \"))\n",
    "\n",
    "for num in range(lower, upper + 1):\n",
    "\n",
    "    order = len(str(num))\n",
    "    \n",
    "    sum = 0\n",
    "\n",
    "    temp = num\n",
    "    while temp > 0:\n",
    "        digit = temp % 10\n",
    "        sum += digit ** order\n",
    "        temp //= 10\n",
    "\n",
    "    if num == sum:\n",
    "        print(num)"
   ]
  },
  {
   "cell_type": "code",
   "execution_count": 8,
   "id": "75f80dea",
   "metadata": {},
   "outputs": [
    {
     "name": "stdout",
     "output_type": "stream",
     "text": [
      "Enter a number: 10\n"
     ]
    },
    {
     "data": {
      "text/plain": [
       "55"
      ]
     },
     "execution_count": 8,
     "metadata": {},
     "output_type": "execute_result"
    }
   ],
   "source": [
    "#Q6. Write a Python Program to Find the Sum of Natural Numbers?\n",
    "def sum_of_no():\n",
    "    n = int((input(\"Enter a number: \")))\n",
    "    sum = 0\n",
    "    x = 1\n",
    "    while x <= n:\n",
    "        sum = sum +  x\n",
    "        x = x+1\n",
    "    return sum\n",
    "\n",
    "sum_of_no()"
   ]
  }
 ],
 "metadata": {
  "kernelspec": {
   "display_name": "Python 3",
   "language": "python",
   "name": "python3"
  },
  "language_info": {
   "codemirror_mode": {
    "name": "ipython",
    "version": 3
   },
   "file_extension": ".py",
   "mimetype": "text/x-python",
   "name": "python",
   "nbconvert_exporter": "python",
   "pygments_lexer": "ipython3",
   "version": "3.8.8"
  }
 },
 "nbformat": 4,
 "nbformat_minor": 5
}
