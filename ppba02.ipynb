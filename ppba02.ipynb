{
 "cells": [
  {
   "cell_type": "code",
   "execution_count": 1,
   "metadata": {},
   "outputs": [],
   "source": [
    "#1. Write a Python program to convert kilometers to miles?\n",
    "'''python program to convert kilometrers too miles'''\n",
    "def km_to_miles():\n",
    "    a = float(input(\"enter distance in km\"))\n",
    "    b = a*0.621371\n",
    "    return \"the distance in miles is\" , b"
   ]
  },
  {
   "cell_type": "code",
   "execution_count": 2,
   "metadata": {},
   "outputs": [
    {
     "name": "stdout",
     "output_type": "stream",
     "text": [
      "enter distance in km10\n"
     ]
    },
    {
     "data": {
      "text/plain": [
       "('the distance in miles is', 6.21371)"
      ]
     },
     "execution_count": 2,
     "metadata": {},
     "output_type": "execute_result"
    }
   ],
   "source": [
    "km_to_miles()"
   ]
  },
  {
   "cell_type": "code",
   "execution_count": 3,
   "metadata": {},
   "outputs": [],
   "source": [
    "#2. Write a Python program to convert Celsius to Fahrenheit?\n",
    "def c_to_f():\n",
    "    a = float(input(\"enter temperature in celsius \"))\n",
    "    b = (a*9/5) + 32\n",
    "    print(\"the temperature in fahrenheit is \", b)"
   ]
  },
  {
   "cell_type": "code",
   "execution_count": 4,
   "metadata": {},
   "outputs": [
    {
     "name": "stdout",
     "output_type": "stream",
     "text": [
      "enter temperature in celsius 10\n",
      "the temperature in fahrenheit is  50.0\n"
     ]
    }
   ],
   "source": [
    "c_to_f()"
   ]
  },
  {
   "cell_type": "code",
   "execution_count": 5,
   "metadata": {},
   "outputs": [
    {
     "name": "stdout",
     "output_type": "stream",
     "text": [
      "enter year21\n",
      "enter month 4\n",
      "      April 21\n",
      "Mo Tu We Th Fr Sa Su\n",
      "          1  2  3  4\n",
      " 5  6  7  8  9 10 11\n",
      "12 13 14 15 16 17 18\n",
      "19 20 21 22 23 24 25\n",
      "26 27 28 29 30\n",
      "\n"
     ]
    }
   ],
   "source": [
    "#3. Write a Python program to display calendar?\n",
    "import calendar\n",
    "yy = int(input(\"enter year\"))\n",
    "mm = int(input(\"enter month \"))\n",
    "print(calendar.month(yy, mm))"
   ]
  },
  {
   "cell_type": "code",
   "execution_count": 6,
   "metadata": {},
   "outputs": [],
   "source": [
    "#4. Write a Python program to solve quadratic equation?\n",
    "import math \n",
    "def root():\n",
    "    a = int(input(\"enter value of a \"))\n",
    "    b = int(input(\"enter value of b \"))\n",
    "    c = int(input(\"enter value of c \"))\n",
    "    D = (b*b - 4*a*c)\n",
    "    sqrt = math.sqrt(abs(D))\n",
    "    \n",
    "    x1 = (-b + sqrt)/2*a\n",
    "    x2 = (-b - sqrt)/2*a\n",
    "    return \"roots of equation are \" , x1,x2"
   ]
  },
  {
   "cell_type": "code",
   "execution_count": 7,
   "metadata": {},
   "outputs": [
    {
     "name": "stdout",
     "output_type": "stream",
     "text": [
      "enter value of a 2\n",
      "enter value of b 3\n",
      "enter value of c 5\n"
     ]
    },
    {
     "data": {
      "text/plain": [
       "('roots of equation are ', 2.5677643628300215, -8.567764362830022)"
      ]
     },
     "execution_count": 7,
     "metadata": {},
     "output_type": "execute_result"
    }
   ],
   "source": [
    "root()"
   ]
  },
  {
   "cell_type": "code",
   "execution_count": 8,
   "metadata": {},
   "outputs": [],
   "source": [
    "#5. Write a Python program to swap two variables without temp variable?\n",
    "def swap():\n",
    "    x = input(\"enter any word \")\n",
    "    y = input(\"enter any word \")\n",
    "    print(\"before swapping x = {} and y = {}\".format(x,y))\n",
    "    x,y = y,x\n",
    "    print(\"after swappinng x = {} and y = {}\".format(x,y))"
   ]
  },
  {
   "cell_type": "code",
   "execution_count": 9,
   "metadata": {},
   "outputs": [
    {
     "name": "stdout",
     "output_type": "stream",
     "text": [
      "enter any word car\n",
      "enter any word bike\n",
      "before swapping x = car and y = bike\n",
      "after swappinng x = bike and y = car\n"
     ]
    }
   ],
   "source": [
    "swap()"
   ]
  },
  {
   "cell_type": "code",
   "execution_count": null,
   "metadata": {},
   "outputs": [],
   "source": []
  }
 ],
 "metadata": {
  "kernelspec": {
   "display_name": "Python 3",
   "language": "python",
   "name": "python3"
  },
  "language_info": {
   "codemirror_mode": {
    "name": "ipython",
    "version": 3
   },
   "file_extension": ".py",
   "mimetype": "text/x-python",
   "name": "python",
   "nbconvert_exporter": "python",
   "pygments_lexer": "ipython3",
   "version": "3.8.5"
  }
 },
 "nbformat": 4,
 "nbformat_minor": 4
}
