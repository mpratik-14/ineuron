{
 "cells": [
  {
   "cell_type": "markdown",
   "id": "52e87b5c",
   "metadata": {},
   "source": [
    "1. What is the purpose of Python's OOP?\n",
    "Ans:\n",
    "By using oop in python progrmans it makes code more reusable and makes it \n",
    "easier to work with larger programs."
   ]
  },
  {
   "cell_type": "markdown",
   "id": "4bc6f75e",
   "metadata": {},
   "source": [
    "2. Where does an inheritance search look for an attribute?\n",
    "Ans:\n",
    "Inheritance search is a search of the tree from bottom to top lokking for the lowest occurrence of an attribute name."
   ]
  },
  {
   "cell_type": "markdown",
   "id": "91ec9725",
   "metadata": {},
   "source": [
    "3. How do you distinguish between a class object and an instance object?\n",
    "Ans:\n",
    "A class is a prototype from which objects are created .\n",
    "Objects are something which are created under class of same types.\n",
    "Instance object is a single and unique nit of a class."
   ]
  },
  {
   "cell_type": "markdown",
   "id": "c244a2ce",
   "metadata": {},
   "source": [
    "4. What makes the first argument in a class’s method function special?\n",
    "Ans:\n",
    "In pythom the calling process is automatic while the receiving process is not. This is the reason the first parameter of a function in class must be the object itself. Writing this parameter as self is merely a convention. It is not a keyword and has no special meaning in ython."
   ]
  },
  {
   "cell_type": "markdown",
   "id": "189f15ae",
   "metadata": {},
   "source": [
    "5. What is the purpose of the __init__ method?\n",
    "Ans:\n",
    "__init__ is a reserved method in python.\n",
    "This method is called when an object is created from a class and it allows \n",
    "the class to initialize the attributes of the class."
   ]
  },
  {
   "cell_type": "markdown",
   "id": "49d78d8f",
   "metadata": {},
   "source": [
    "6. What is the process for creating a class instance?\n",
    "Ans:\n",
    "Creating a new class creates a new type of object thus allowing new instances of that type to be made."
   ]
  },
  {
   "cell_type": "markdown",
   "id": "d89f4b1a",
   "metadata": {},
   "source": [
    "7. What is the process for creating a class?\n",
    "Ans:\n",
    "Classes are created by keyword class.\n",
    "Under class we have to define object."
   ]
  },
  {
   "cell_type": "markdown",
   "id": "df313978",
   "metadata": {},
   "source": [
    "8. How would you define the superclasses of a class?\n",
    "Ans:\n",
    "A superclass is a class from which many subclasses can be created. \n",
    "or \n",
    "The class from which the sublcass is derived is called superclass."
   ]
  }
 ],
 "metadata": {
  "kernelspec": {
   "display_name": "Python 3",
   "language": "python",
   "name": "python3"
  },
  "language_info": {
   "codemirror_mode": {
    "name": "ipython",
    "version": 3
   },
   "file_extension": ".py",
   "mimetype": "text/x-python",
   "name": "python",
   "nbconvert_exporter": "python",
   "pygments_lexer": "ipython3",
   "version": "3.8.8"
  }
 },
 "nbformat": 4,
 "nbformat_minor": 5
}
