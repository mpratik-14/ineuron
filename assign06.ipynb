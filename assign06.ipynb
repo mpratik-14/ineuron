{
 "cells": [
  {
   "cell_type": "markdown",
   "id": "30b648d4",
   "metadata": {},
   "source": [
    "1. What are escape characters, and how do you use them?\n",
    "Ans:\n",
    "In python escape characters also known as '\\' are used in representing certain whitespace characters. \n",
    "Eg: \"\\t\" , \"\\n\""
   ]
  },
  {
   "cell_type": "markdown",
   "id": "b22283a2",
   "metadata": {},
   "source": [
    "2. What do the escape characters n and t stand for?\n",
    "Ans:\n",
    "The escape character  'n' stands for newline and \"t\" stands for tab"
   ]
  },
  {
   "cell_type": "markdown",
   "id": "6cd0e325",
   "metadata": {},
   "source": [
    "3. What is the way to include backslash characters in a string?\n",
    "Ans:\n",
    "To include backslsh characters in string we just have to put a backslash with n,t or r (\"\\t\" , '\\n' , '\\r')."
   ]
  },
  {
   "cell_type": "markdown",
   "id": "94e0ccf7",
   "metadata": {},
   "source": [
    "4. The string \"Howl's Moving Castle \" is a correct value. Why isn't the single quote character in the word Howl's not escaped a problem?\n",
    "Ans:\n",
    "Because the escape characters should be written in '\\' format.\n",
    "If it was written in '\\' format it would have escaped"
   ]
  },
  {
   "cell_type": "markdown",
   "id": "f0e766a3",
   "metadata": {},
   "source": [
    "5. How do you write a string of newlines if you don't want to use the n character?\n",
    "Ans: \n",
    "By using end = <character>, 'cahracter'  where you want to start the new line"
   ]
  },
  {
   "cell_type": "code",
   "execution_count": 25,
   "id": "09cd6bbd",
   "metadata": {},
   "outputs": [
    {
     "data": {
      "text/plain": [
       "'e'"
      ]
     },
     "execution_count": 25,
     "metadata": {},
     "output_type": "execute_result"
    }
   ],
   "source": [
    "#6. What are the values of the given expressions?\n",
    "'Hello, world!'[1]"
   ]
  },
  {
   "cell_type": "code",
   "execution_count": 26,
   "id": "d52b57aa",
   "metadata": {},
   "outputs": [
    {
     "data": {
      "text/plain": [
       "'Hello'"
      ]
     },
     "execution_count": 26,
     "metadata": {},
     "output_type": "execute_result"
    }
   ],
   "source": [
    "'Hello, world!'[0:5]"
   ]
  },
  {
   "cell_type": "code",
   "execution_count": 27,
   "id": "afbb9ca5",
   "metadata": {},
   "outputs": [
    {
     "data": {
      "text/plain": [
       "'Hello'"
      ]
     },
     "execution_count": 27,
     "metadata": {},
     "output_type": "execute_result"
    }
   ],
   "source": [
    "'Hello, world!'[:5]"
   ]
  },
  {
   "cell_type": "code",
   "execution_count": 28,
   "id": "a2a29ede",
   "metadata": {},
   "outputs": [
    {
     "data": {
      "text/plain": [
       "'lo, world!'"
      ]
     },
     "execution_count": 28,
     "metadata": {},
     "output_type": "execute_result"
    }
   ],
   "source": [
    "'Hello, world!'[3:]"
   ]
  },
  {
   "cell_type": "code",
   "execution_count": 29,
   "id": "4f223ef5",
   "metadata": {},
   "outputs": [
    {
     "data": {
      "text/plain": [
       "'HELLO'"
      ]
     },
     "execution_count": 29,
     "metadata": {},
     "output_type": "execute_result"
    }
   ],
   "source": [
    "#Q7 What are the values of the following expressions?\n",
    "'Hello'.upper()"
   ]
  },
  {
   "cell_type": "code",
   "execution_count": 30,
   "id": "b6880fd0",
   "metadata": {},
   "outputs": [
    {
     "data": {
      "text/plain": [
       "True"
      ]
     },
     "execution_count": 30,
     "metadata": {},
     "output_type": "execute_result"
    }
   ],
   "source": [
    "'Hello'.upper().isupper()"
   ]
  },
  {
   "cell_type": "code",
   "execution_count": 31,
   "id": "e1874e2e",
   "metadata": {},
   "outputs": [
    {
     "data": {
      "text/plain": [
       "'hello'"
      ]
     },
     "execution_count": 31,
     "metadata": {},
     "output_type": "execute_result"
    }
   ],
   "source": [
    "'Hello'.upper().lower()"
   ]
  },
  {
   "cell_type": "code",
   "execution_count": 32,
   "id": "b95c8fb3",
   "metadata": {},
   "outputs": [
    {
     "data": {
      "text/plain": [
       "['Remember,', 'remember,', 'the', 'fifth', 'oj', 'July.']"
      ]
     },
     "execution_count": 32,
     "metadata": {},
     "output_type": "execute_result"
    }
   ],
   "source": [
    "#Q8 What are the values of the following expressions?\n",
    "'Remember, remember, the fifth oj July.'.split()\n",
    "#IT will split and form into list"
   ]
  },
  {
   "cell_type": "code",
   "execution_count": 33,
   "id": "173bd39d",
   "metadata": {},
   "outputs": [
    {
     "data": {
      "text/plain": [
       "'There-can-only-one.'"
      ]
     },
     "execution_count": 33,
     "metadata": {},
     "output_type": "execute_result"
    }
   ],
   "source": [
    "'-'.join('There can only one.'.split())\n",
    "#it will split and then join"
   ]
  },
  {
   "cell_type": "markdown",
   "id": "6522699b",
   "metadata": {},
   "source": [
    "9. What are the methods for right-justifying, left-justifying, and centering a string?\n",
    "Ans: "
   ]
  },
  {
   "cell_type": "code",
   "execution_count": 38,
   "id": "ab4031c3",
   "metadata": {},
   "outputs": [],
   "source": [
    "p = \"The method for justifying string is\""
   ]
  },
  {
   "cell_type": "code",
   "execution_count": 47,
   "id": "fa0947a4",
   "metadata": {},
   "outputs": [
    {
     "name": "stdout",
     "output_type": "stream",
     "text": [
      "-------------------------The method for justifying string is\n"
     ]
    }
   ],
   "source": [
    "#For right adjust\n",
    "print(p.rjust(60,'-'))"
   ]
  },
  {
   "cell_type": "code",
   "execution_count": 46,
   "id": "cd6eb34d",
   "metadata": {},
   "outputs": [
    {
     "name": "stdout",
     "output_type": "stream",
     "text": [
      "The method for justifying string is-------------------------\n"
     ]
    }
   ],
   "source": [
    "#For left adjust\n",
    "print(p.ljust(60,'-'))"
   ]
  },
  {
   "cell_type": "code",
   "execution_count": 48,
   "id": "d6124d3e",
   "metadata": {},
   "outputs": [
    {
     "name": "stdout",
     "output_type": "stream",
     "text": [
      "------------The method for justifying string is-------------\n"
     ]
    }
   ],
   "source": [
    "#For centering a string\n",
    "print(p.center(60,'-'))"
   ]
  },
  {
   "cell_type": "markdown",
   "id": "2f49e79f",
   "metadata": {},
   "source": [
    "10. What is the best way to remove whitespace characters from the start or end?\n",
    "Ans:\n",
    "To remove whitespaces from start we should use ltrim() and\n",
    "to remove whitespaces from end we should use rtrim()."
   ]
  }
 ],
 "metadata": {
  "kernelspec": {
   "display_name": "Python 3",
   "language": "python",
   "name": "python3"
  },
  "language_info": {
   "codemirror_mode": {
    "name": "ipython",
    "version": 3
   },
   "file_extension": ".py",
   "mimetype": "text/x-python",
   "name": "python",
   "nbconvert_exporter": "python",
   "pygments_lexer": "ipython3",
   "version": "3.8.8"
  }
 },
 "nbformat": 4,
 "nbformat_minor": 5
}
