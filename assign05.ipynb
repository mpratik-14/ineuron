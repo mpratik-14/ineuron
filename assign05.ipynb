{
 "cells": [
  {
   "cell_type": "code",
   "execution_count": null,
   "id": "d6041abe",
   "metadata": {},
   "outputs": [],
   "source": [
    "#Q1. What does an empty dictionary&#39;s code look like?"
   ]
  },
  {
   "cell_type": "code",
   "execution_count": 1,
   "id": "13ea45be",
   "metadata": {},
   "outputs": [],
   "source": [
    "p = {}"
   ]
  },
  {
   "cell_type": "code",
   "execution_count": 2,
   "id": "8ce68f76",
   "metadata": {},
   "outputs": [
    {
     "data": {
      "text/plain": [
       "dict"
      ]
     },
     "execution_count": 2,
     "metadata": {},
     "output_type": "execute_result"
    }
   ],
   "source": [
    "type(p)"
   ]
  },
  {
   "cell_type": "code",
   "execution_count": 4,
   "id": "c4790f8d",
   "metadata": {},
   "outputs": [
    {
     "data": {
      "text/plain": [
       "42"
      ]
     },
     "execution_count": 4,
     "metadata": {},
     "output_type": "execute_result"
    }
   ],
   "source": [
    "#Q2. What is the value of a dictionary value with the key 'foo' and the value 42?\n",
    "dic = {'foo':42}\n",
    "dic[\"foo\"]\n",
    "#ANS - the value is 42"
   ]
  },
  {
   "cell_type": "code",
   "execution_count": null,
   "id": "2f7d90c0",
   "metadata": {},
   "outputs": [],
   "source": [
    "#Q3. What is the most significant distinction between a dictionary and a list?\n",
    "#Ans : A list is an ordered sequence of objects, whereas dictionaries are unordered sets."
   ]
  },
  {
   "cell_type": "code",
   "execution_count": 5,
   "id": "d714770d",
   "metadata": {},
   "outputs": [
    {
     "ename": "KeyError",
     "evalue": "'foo'",
     "output_type": "error",
     "traceback": [
      "\u001b[1;31m---------------------------------------------------------------------------\u001b[0m",
      "\u001b[1;31mKeyError\u001b[0m                                  Traceback (most recent call last)",
      "\u001b[1;32m<ipython-input-5-3f00d1480f9e>\u001b[0m in \u001b[0;36m<module>\u001b[1;34m\u001b[0m\n\u001b[0;32m      1\u001b[0m \u001b[1;31m#Q4. What happens if you try to access spam['foo'] if spam is {'bar': 100}?\u001b[0m\u001b[1;33m\u001b[0m\u001b[1;33m\u001b[0m\u001b[1;33m\u001b[0m\u001b[0m\n\u001b[0;32m      2\u001b[0m \u001b[0mspam\u001b[0m \u001b[1;33m=\u001b[0m \u001b[1;33m{\u001b[0m\u001b[1;34m'bar'\u001b[0m \u001b[1;33m:\u001b[0m \u001b[1;36m100\u001b[0m\u001b[1;33m}\u001b[0m\u001b[1;33m\u001b[0m\u001b[1;33m\u001b[0m\u001b[0m\n\u001b[1;32m----> 3\u001b[1;33m \u001b[0mspam\u001b[0m\u001b[1;33m[\u001b[0m\u001b[1;34m'foo'\u001b[0m\u001b[1;33m]\u001b[0m\u001b[1;33m\u001b[0m\u001b[1;33m\u001b[0m\u001b[0m\n\u001b[0m",
      "\u001b[1;31mKeyError\u001b[0m: 'foo'"
     ]
    }
   ],
   "source": [
    "#Q4. What happens if you try to access spam['foo'] if spam is {'bar': 100}?\n",
    "spam = {'bar' : 100}\n",
    "spam['foo']\n",
    "#It will show an error"
   ]
  },
  {
   "cell_type": "code",
   "execution_count": null,
   "id": "f99ad17f",
   "metadata": {},
   "outputs": [],
   "source": [
    "#Q5. If a dictionary is stored in spam, what is the difference between the expressions 'cat' in spam and\n",
    "#'cat' in spam.keys()?\n",
    "Ans - '''  cat in spam will try to find whether there is cat stored in the dic named spam or not.\n",
    "    & 'cat' in spam.keys() will try to find whether there is cat stored in key place or not.\n",
    "    In short both will try to find key places'''"
   ]
  },
  {
   "cell_type": "code",
   "execution_count": null,
   "id": "7ccec985",
   "metadata": {},
   "outputs": [],
   "source": [
    "#Q6. If a dictionary is stored in spam, what is the difference between the expressions 'cat' in spam and\n",
    "#'cat' in spam.values()?\n",
    " ''' cat in spam will try to find whether there is cat stored in the dic named spam or not. \n",
    "    and & cat' in spam.values() will try to find whether there is cat stored in value place or not'''"
   ]
  },
  {
   "cell_type": "code",
   "execution_count": 10,
   "id": "e4aaa7f5",
   "metadata": {},
   "outputs": [],
   "source": [
    "#Q7. What is a shortcut for the following code?\n",
    "if 'color' not in spam:\n",
    "    spam['color'] = 'black'"
   ]
  },
  {
   "cell_type": "code",
   "execution_count": 11,
   "id": "5cf001a6",
   "metadata": {},
   "outputs": [
    {
     "data": {
      "text/plain": [
       "{'bar': 100, 'color': 'black'}"
      ]
     },
     "execution_count": 11,
     "metadata": {},
     "output_type": "execute_result"
    }
   ],
   "source": [
    "spam"
   ]
  },
  {
   "cell_type": "code",
   "execution_count": null,
   "id": "81b75e8e",
   "metadata": {},
   "outputs": [],
   "source": [
    "#Ans - The shortcut for the above code is dict comprehension"
   ]
  },
  {
   "cell_type": "code",
   "execution_count": null,
   "id": "252fdd21",
   "metadata": {},
   "outputs": [],
   "source": [
    "#Q8. How do you 'pretty print' dictionary values using which module and function?\n",
    "#Ans\n",
    "'''we can print pretty print dictionary values using pprint module and pprint() function'''"
   ]
  }
 ],
 "metadata": {
  "kernelspec": {
   "display_name": "Python 3",
   "language": "python",
   "name": "python3"
  },
  "language_info": {
   "codemirror_mode": {
    "name": "ipython",
    "version": 3
   },
   "file_extension": ".py",
   "mimetype": "text/x-python",
   "name": "python",
   "nbconvert_exporter": "python",
   "pygments_lexer": "ipython3",
   "version": "3.8.8"
  }
 },
 "nbformat": 4,
 "nbformat_minor": 5
}
