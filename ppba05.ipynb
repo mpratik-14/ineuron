{
 "cells": [
  {
   "cell_type": "code",
   "execution_count": 4,
   "id": "51a7bee1",
   "metadata": {},
   "outputs": [
    {
     "name": "stdout",
     "output_type": "stream",
     "text": [
      "enter first no: 10\n",
      "enter second no: 5\n"
     ]
    },
    {
     "data": {
      "text/plain": [
       "10"
      ]
     },
     "execution_count": 4,
     "metadata": {},
     "output_type": "execute_result"
    }
   ],
   "source": [
    "#Q1. Write a Python Program to Find LCM?\n",
    "def lcm():\n",
    "    x = int(input(\"enter first no: \"))\n",
    "    y = int(input(\"enter second no: \"))\n",
    "    \n",
    "    if x > y:\n",
    "        greater = x\n",
    "    else:\n",
    "        greater = y\n",
    "    \n",
    "    while(True):\n",
    "        if ((greater % x == 0) and (greater % y == 0)):\n",
    "            lcm = greater\n",
    "            break\n",
    "        greater += 1\n",
    "        \n",
    "    return lcm\n",
    "    print(\"the lcm of \",x,y, \"is\", lcm)\n",
    "\n",
    "    \n",
    "lcm()\n",
    "    "
   ]
  },
  {
   "cell_type": "code",
   "execution_count": 10,
   "id": "338e9b9c",
   "metadata": {},
   "outputs": [
    {
     "name": "stdout",
     "output_type": "stream",
     "text": [
      "enter first no: 100\n",
      "enter second no: 120\n"
     ]
    },
    {
     "data": {
      "text/plain": [
       "20"
      ]
     },
     "execution_count": 10,
     "metadata": {},
     "output_type": "execute_result"
    }
   ],
   "source": [
    "#Q2. Write a Python Program to Find HCF?\n",
    "def hcf():\n",
    "    x = int(input(\"enter first no: \"))\n",
    "    y = int(input(\"enter second no: \"))\n",
    "    \n",
    "    if x > y:\n",
    "        smaller = y\n",
    "    else:\n",
    "        smaller = x\n",
    "    \n",
    "    for i in range(1, smaller+1):\n",
    "        if ((x % i == 0) and (y % i == 0)):\n",
    "            hcf = i\n",
    "    return hcf\n",
    "    print(\"the hcf of \",x,y, \"is\", hcf)\n",
    "        \n",
    "        \n",
    "hcf()"
   ]
  },
  {
   "cell_type": "code",
   "execution_count": 12,
   "id": "6f6a4c96",
   "metadata": {},
   "outputs": [
    {
     "name": "stdout",
     "output_type": "stream",
     "text": [
      "enter a no: 10\n",
      "The decimal value of  10 is: \n",
      "in binary form : 0b1010\n",
      "in octal form:  0o12\n",
      "in hexadecimal form : 0xa\n"
     ]
    }
   ],
   "source": [
    "#Q3. Write a Python Program to Convert Decimal to Binary, Octal and Hexadecimal?\n",
    "def dec():\n",
    "    n = int(input(\"enter a no: \"))\n",
    "    print(\"The decimal value of \", n , \"is: \")\n",
    "    print(\"in binary form :\" ,bin(n))\n",
    "    print(\"in octal form: \", oct(n))\n",
    "    print(\"in hexadecimal form :\", hex(n))\n",
    "    \n",
    "    \n",
    "dec()"
   ]
  },
  {
   "cell_type": "code",
   "execution_count": 14,
   "id": "eabd0809",
   "metadata": {},
   "outputs": [
    {
     "name": "stdout",
     "output_type": "stream",
     "text": [
      "enter any ascii character :p\n",
      "THE ascii value of 'p' is  112\n"
     ]
    }
   ],
   "source": [
    "#Q4. Write a Python Program To Find ASCII value of a character?\n",
    "def ascii_char():\n",
    "    c = input(\"enter any ascii character :\")\n",
    "    print(\"THE ascii value of '\"+ c + \"' is \", ord(c))\n",
    "    \n",
    "ascii_char()"
   ]
  },
  {
   "cell_type": "code",
   "execution_count": 16,
   "id": "80d8948d",
   "metadata": {},
   "outputs": [
    {
     "name": "stdout",
     "output_type": "stream",
     "text": [
      "select your operation(+, - , / , *)-\n",
      "enter first number: 100\n",
      "enter second number: 50\n",
      "50.0\n"
     ]
    }
   ],
   "source": [
    "#Q5. Write a Python Program to Make a Simple Calculator with 4 basic mathematical operations?\n",
    "def add(num1, num2):\n",
    "    return num1 + num2\n",
    "\n",
    "def subtract (num1, num2):\n",
    "    return num1 - num2 \n",
    "\n",
    "def divide (num1, num2 ):\n",
    "    return num1 / num2\n",
    "\n",
    "def multiply (num1, num2):\n",
    "    return num1*num2\n",
    "\n",
    "def calculator():\n",
    "    operation = input(\"select your operation(+, - , / , *)\")\n",
    "    if (operation  != \"+\" and operation != \"-\" and operation != \"/\" and operation != \"*\"):\n",
    "        print(\"your selected operation is invalid . PLease enter a valid operation\")\n",
    "    \n",
    "    else:\n",
    "        num1 = float(input(\"enter first number: \"))\n",
    "        num2 = float(input(\"enter second number: \"))\n",
    "        \n",
    "        if operation == \"+\":\n",
    "            print(add(num1, num2))\n",
    "            \n",
    "        elif operation == \"-\":\n",
    "            print(subtract(num1, num2))\n",
    "            \n",
    "        elif operation == \"/\":\n",
    "            print(divide(num1, num2))\n",
    "            \n",
    "        else:\n",
    "            print(multiply(num1, num2))\n",
    "            \n",
    "calculator()"
   ]
  },
  {
   "cell_type": "code",
   "execution_count": 17,
   "id": "54338437",
   "metadata": {},
   "outputs": [
    {
     "name": "stdout",
     "output_type": "stream",
     "text": [
      "select your operation(+, - , / , *)+\n",
      "enter first number: 12\n",
      "enter second number: 23\n",
      "35.0\n"
     ]
    }
   ],
   "source": [
    "calculator()"
   ]
  },
  {
   "cell_type": "code",
   "execution_count": 18,
   "id": "d8fb3b0f",
   "metadata": {},
   "outputs": [
    {
     "name": "stdout",
     "output_type": "stream",
     "text": [
      "select your operation(+, - , / , *)/\n",
      "enter first number: 256\n",
      "enter second number: 6\n",
      "42.666666666666664\n"
     ]
    }
   ],
   "source": [
    "calculator()"
   ]
  },
  {
   "cell_type": "code",
   "execution_count": 19,
   "id": "38c3ffb2",
   "metadata": {},
   "outputs": [
    {
     "name": "stdout",
     "output_type": "stream",
     "text": [
      "select your operation(+, - , / , *)*\n",
      "enter first number: 22\n",
      "enter second number: 5\n",
      "110.0\n"
     ]
    }
   ],
   "source": [
    "calculator()"
   ]
  },
  {
   "cell_type": "code",
   "execution_count": null,
   "id": "88cc8a5a",
   "metadata": {},
   "outputs": [],
   "source": []
  }
 ],
 "metadata": {
  "kernelspec": {
   "display_name": "Python 3",
   "language": "python",
   "name": "python3"
  },
  "language_info": {
   "codemirror_mode": {
    "name": "ipython",
    "version": 3
   },
   "file_extension": ".py",
   "mimetype": "text/x-python",
   "name": "python",
   "nbconvert_exporter": "python",
   "pygments_lexer": "ipython3",
   "version": "3.8.8"
  }
 },
 "nbformat": 4,
 "nbformat_minor": 5
}
