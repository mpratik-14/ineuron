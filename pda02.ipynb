{
 "cells": [
  {
   "cell_type": "markdown",
   "id": "3828fc36",
   "metadata": {},
   "source": [
    "Q1. What is the relationship between classes and modules?"
   ]
  },
  {
   "cell_type": "markdown",
   "id": "892d341c",
   "metadata": {},
   "source": [
    "Ans: \n",
    "Module in python is simply a way to organize the code, and it contains either python classes or just functions.\n",
    "If you need those classes or functions in your project, you just import them. For eg: the math module in python contains just a bunch of functions, and you just call those needed."
   ]
  },
  {
   "cell_type": "markdown",
   "id": "8c03bb81",
   "metadata": {},
   "source": [
    "Q2. How do you make instances and classes?"
   ]
  },
  {
   "cell_type": "markdown",
   "id": "d59627d0",
   "metadata": {},
   "source": [
    "Ans:\n",
    "When we are creating an object, we are creating an instance of a class, therefore \"instantiating\" a class.\n",
    "To create instances of a class, you call the class using class name and pass in whatever arguments its __init__ method accepts"
   ]
  },
  {
   "cell_type": "markdown",
   "id": "584c5903",
   "metadata": {},
   "source": [
    "Q3. Where and how should be class attributes created?"
   ]
  },
  {
   "cell_type": "markdown",
   "id": "907d88b3",
   "metadata": {},
   "source": [
    "Ans:\n",
    "Class attributes are those which are owned by the class itself. They will be shared by all the instances of the class.\n",
    "Therefore they have same values for every instance. We define class attributes outside all the methods, usually they are placed at the top, right below the class header."
   ]
  },
  {
   "cell_type": "markdown",
   "id": "326cecff",
   "metadata": {},
   "source": [
    "Q4. Where and how are instance attributes created?"
   ]
  },
  {
   "cell_type": "markdown",
   "id": "adb7f915",
   "metadata": {},
   "source": [
    "Ans:\n",
    "Unlike class attributes, instnace attributes are not shared by objects. Every object has its own copy of the instance attribute.\n",
    "Instance attribute are defined in the constructor. Defined inside a constructor using the self parameter."
   ]
  },
  {
   "cell_type": "markdown",
   "id": "702c18bf",
   "metadata": {},
   "source": [
    "Q5. What does the term \"self\" in a Python class mean?"
   ]
  },
  {
   "cell_type": "markdown",
   "id": "0d629e43",
   "metadata": {},
   "source": [
    "Ans:\n",
    "self represents the instance of the class. By using the \"self\" keyword we can access the attributes and method of the class in python. it binds the attributes with the given arguments."
   ]
  },
  {
   "cell_type": "markdown",
   "id": "3d2a13e7",
   "metadata": {},
   "source": [
    "Q6. How does a Python class handle operator overloading?"
   ]
  },
  {
   "cell_type": "markdown",
   "id": "33b0ef49",
   "metadata": {},
   "source": [
    "Ans:\n",
    "Python class handles operator overloading for built- in classes .\n",
    "For eg, the + operator will perform addition on two numbers, merge two lists, or concatenate two strings."
   ]
  },
  {
   "cell_type": "markdown",
   "id": "f1748211",
   "metadata": {},
   "source": [
    "Q7. When do you consider allowing operator overloading of your classes?"
   ]
  },
  {
   "cell_type": "markdown",
   "id": "5ce579a9",
   "metadata": {},
   "source": [
    "Ans:\n",
    "Ife we want to append something or if we want to performing arithmetic operations, within the class itself we will consider to use operator overloading"
   ]
  },
  {
   "cell_type": "markdown",
   "id": "5994a8ea",
   "metadata": {},
   "source": [
    "Q8. What is the most popular form of operator overloading?"
   ]
  },
  {
   "cell_type": "markdown",
   "id": "00040b12",
   "metadata": {},
   "source": [
    "Ans:\n",
    "The most popular form of operator overloading is \"+\""
   ]
  },
  {
   "cell_type": "markdown",
   "id": "2a279b45",
   "metadata": {},
   "source": [
    "Q9. What are the two most important concepts to grasp in order to comprehend Python OOP code?"
   ]
  },
  {
   "cell_type": "markdown",
   "id": "48d436bc",
   "metadata": {},
   "source": [
    "Ans:\n",
    "The two important conecpts are classes and objects."
   ]
  }
 ],
 "metadata": {
  "kernelspec": {
   "display_name": "Python 3",
   "language": "python",
   "name": "python3"
  },
  "language_info": {
   "codemirror_mode": {
    "name": "ipython",
    "version": 3
   },
   "file_extension": ".py",
   "mimetype": "text/x-python",
   "name": "python",
   "nbconvert_exporter": "python",
   "pygments_lexer": "ipython3",
   "version": "3.8.8"
  }
 },
 "nbformat": 4,
 "nbformat_minor": 5
}
